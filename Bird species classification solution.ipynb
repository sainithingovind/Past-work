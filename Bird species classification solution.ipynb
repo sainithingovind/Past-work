{
 "cells": [
  {
   "cell_type": "code",
   "execution_count": 249,
   "id": "1f12e1e6",
   "metadata": {},
   "outputs": [],
   "source": [
    "import pandas as pd\n",
    "\n",
    "# plotting\n",
    "import matplotlib\n",
    "import matplotlib.pyplot as plt\n",
    "import seaborn as sns\n",
    "matplotlib.rcParams['figure.dpi'] = 100\n",
    "sns.set(rc={'figure.figsize':(11.7,8.27)})\n",
    "sns.set(style=\"whitegrid\")\n",
    "%matplotlib inline\n",
    "\n",
    "# ml\n",
    "from sklearn.metrics import ConfusionMatrixDisplay, classification_report\n",
    "from sklearn.model_selection import train_test_split\n",
    "from sklearn.impute import SimpleImputer\n",
    "from sklearn.preprocessing import LabelEncoder\n",
    "from sklearn.tree import DecisionTreeClassifier\n",
    "from sklearn import tree\n"
   ]
  },
  {
   "cell_type": "code",
   "execution_count": 250,
   "id": "103b1576",
   "metadata": {},
   "outputs": [],
   "source": [
    "def missing_vals(df):\n",
    "    \"\"\"prints out columns with perc of missing values\"\"\"\n",
    "    missing = [\n",
    "        (df.columns[idx], perc)\n",
    "        for idx, perc in enumerate(df.isna().mean() * 100)\n",
    "        if perc > 0\n",
    "    ]\n",
    "\n",
    "    if len(missing) == 0:\n",
    "        return \"no missing values\"\n",
    "        \n",
    "\n",
    "    # sort desc by perc\n",
    "    missing.sort(key=lambda x: x[1], reverse=True)\n",
    "\n",
    "    print(f\"There are a total of {len(missing)} variables with missing values\\n\")\n",
    "\n",
    "    for tup in missing:\n",
    "        print(str.ljust(f\"{tup[0]:<20} => {round(tup[1], 3)}%\", 1))"
   ]
  },
  {
   "cell_type": "code",
   "execution_count": 251,
   "id": "8e659729",
   "metadata": {},
   "outputs": [],
   "source": [
    "train = pd.read_csv(\"training_set.csv\")\n",
    "labels = pd.read_csv(\"training_target.csv\")\n"
   ]
  },
  {
   "cell_type": "code",
   "execution_count": 252,
   "id": "c05fb29b",
   "metadata": {},
   "outputs": [
    {
     "data": {
      "text/html": [
       "<div>\n",
       "<style scoped>\n",
       "    .dataframe tbody tr th:only-of-type {\n",
       "        vertical-align: middle;\n",
       "    }\n",
       "\n",
       "    .dataframe tbody tr th {\n",
       "        vertical-align: top;\n",
       "    }\n",
       "\n",
       "    .dataframe thead th {\n",
       "        text-align: right;\n",
       "    }\n",
       "</style>\n",
       "<table border=\"1\" class=\"dataframe\">\n",
       "  <thead>\n",
       "    <tr style=\"text-align: right;\">\n",
       "      <th></th>\n",
       "      <th>bill_depth</th>\n",
       "      <th>bill_length</th>\n",
       "      <th>wing_length</th>\n",
       "      <th>location</th>\n",
       "      <th>mass</th>\n",
       "      <th>sex</th>\n",
       "      <th>ID</th>\n",
       "    </tr>\n",
       "  </thead>\n",
       "  <tbody>\n",
       "    <tr>\n",
       "      <th>0</th>\n",
       "      <td>14.300000</td>\n",
       "      <td>48.200000</td>\n",
       "      <td>210.000000</td>\n",
       "      <td>loc_2</td>\n",
       "      <td>4600.0</td>\n",
       "      <td>0.0</td>\n",
       "      <td>284</td>\n",
       "    </tr>\n",
       "    <tr>\n",
       "      <th>1</th>\n",
       "      <td>14.400000</td>\n",
       "      <td>48.400000</td>\n",
       "      <td>203.000000</td>\n",
       "      <td>loc_2</td>\n",
       "      <td>4625.0</td>\n",
       "      <td>0.0</td>\n",
       "      <td>101</td>\n",
       "    </tr>\n",
       "    <tr>\n",
       "      <th>2</th>\n",
       "      <td>18.400000</td>\n",
       "      <td>NaN</td>\n",
       "      <td>200.000000</td>\n",
       "      <td>loc_3</td>\n",
       "      <td>3400.0</td>\n",
       "      <td>0.0</td>\n",
       "      <td>400</td>\n",
       "    </tr>\n",
       "    <tr>\n",
       "      <th>3</th>\n",
       "      <td>14.982114</td>\n",
       "      <td>47.504878</td>\n",
       "      <td>NaN</td>\n",
       "      <td>NaN</td>\n",
       "      <td>4800.0</td>\n",
       "      <td>0.0</td>\n",
       "      <td>98</td>\n",
       "    </tr>\n",
       "    <tr>\n",
       "      <th>4</th>\n",
       "      <td>18.982114</td>\n",
       "      <td>38.259307</td>\n",
       "      <td>217.186992</td>\n",
       "      <td>loc_3</td>\n",
       "      <td>5200.0</td>\n",
       "      <td>0.0</td>\n",
       "      <td>103</td>\n",
       "    </tr>\n",
       "    <tr>\n",
       "      <th>...</th>\n",
       "      <td>...</td>\n",
       "      <td>...</td>\n",
       "      <td>...</td>\n",
       "      <td>...</td>\n",
       "      <td>...</td>\n",
       "      <td>...</td>\n",
       "      <td>...</td>\n",
       "    </tr>\n",
       "    <tr>\n",
       "      <th>430</th>\n",
       "      <td>17.000000</td>\n",
       "      <td>48.833824</td>\n",
       "      <td>196.000000</td>\n",
       "      <td>NaN</td>\n",
       "      <td>3500.0</td>\n",
       "      <td>1.0</td>\n",
       "      <td>45</td>\n",
       "    </tr>\n",
       "    <tr>\n",
       "      <th>431</th>\n",
       "      <td>17.100000</td>\n",
       "      <td>NaN</td>\n",
       "      <td>193.000000</td>\n",
       "      <td>loc_3</td>\n",
       "      <td>3400.0</td>\n",
       "      <td>0.0</td>\n",
       "      <td>398</td>\n",
       "    </tr>\n",
       "    <tr>\n",
       "      <th>432</th>\n",
       "      <td>19.400000</td>\n",
       "      <td>NaN</td>\n",
       "      <td>NaN</td>\n",
       "      <td>loc_1</td>\n",
       "      <td>3900.0</td>\n",
       "      <td>1.0</td>\n",
       "      <td>156</td>\n",
       "    </tr>\n",
       "    <tr>\n",
       "      <th>433</th>\n",
       "      <td>16.600000</td>\n",
       "      <td>55.512336</td>\n",
       "      <td>187.000000</td>\n",
       "      <td>loc_2</td>\n",
       "      <td>2900.0</td>\n",
       "      <td>NaN</td>\n",
       "      <td>47</td>\n",
       "    </tr>\n",
       "    <tr>\n",
       "      <th>434</th>\n",
       "      <td>18.900000</td>\n",
       "      <td>NaN</td>\n",
       "      <td>NaN</td>\n",
       "      <td>loc_3</td>\n",
       "      <td>4300.0</td>\n",
       "      <td>1.0</td>\n",
       "      <td>92</td>\n",
       "    </tr>\n",
       "  </tbody>\n",
       "</table>\n",
       "<p>435 rows × 7 columns</p>\n",
       "</div>"
      ],
      "text/plain": [
       "     bill_depth  bill_length  wing_length location    mass  sex   ID\n",
       "0     14.300000    48.200000   210.000000    loc_2  4600.0  0.0  284\n",
       "1     14.400000    48.400000   203.000000    loc_2  4625.0  0.0  101\n",
       "2     18.400000          NaN   200.000000    loc_3  3400.0  0.0  400\n",
       "3     14.982114    47.504878          NaN      NaN  4800.0  0.0   98\n",
       "4     18.982114    38.259307   217.186992    loc_3  5200.0  0.0  103\n",
       "..          ...          ...          ...      ...     ...  ...  ...\n",
       "430   17.000000    48.833824   196.000000      NaN  3500.0  1.0   45\n",
       "431   17.100000          NaN   193.000000    loc_3  3400.0  0.0  398\n",
       "432   19.400000          NaN          NaN    loc_1  3900.0  1.0  156\n",
       "433   16.600000    55.512336   187.000000    loc_2  2900.0  NaN   47\n",
       "434   18.900000          NaN          NaN    loc_3  4300.0  1.0   92\n",
       "\n",
       "[435 rows x 7 columns]"
      ]
     },
     "execution_count": 252,
     "metadata": {},
     "output_type": "execute_result"
    }
   ],
   "source": [
    "train"
   ]
  },
  {
   "cell_type": "code",
   "execution_count": 253,
   "id": "0c519693",
   "metadata": {},
   "outputs": [
    {
     "data": {
      "text/html": [
       "<div>\n",
       "<style scoped>\n",
       "    .dataframe tbody tr th:only-of-type {\n",
       "        vertical-align: middle;\n",
       "    }\n",
       "\n",
       "    .dataframe tbody tr th {\n",
       "        vertical-align: top;\n",
       "    }\n",
       "\n",
       "    .dataframe thead th {\n",
       "        text-align: right;\n",
       "    }\n",
       "</style>\n",
       "<table border=\"1\" class=\"dataframe\">\n",
       "  <thead>\n",
       "    <tr style=\"text-align: right;\">\n",
       "      <th></th>\n",
       "      <th>ID</th>\n",
       "      <th>species</th>\n",
       "    </tr>\n",
       "  </thead>\n",
       "  <tbody>\n",
       "    <tr>\n",
       "      <th>0</th>\n",
       "      <td>284</td>\n",
       "      <td>C</td>\n",
       "    </tr>\n",
       "    <tr>\n",
       "      <th>1</th>\n",
       "      <td>101</td>\n",
       "      <td>C</td>\n",
       "    </tr>\n",
       "    <tr>\n",
       "      <th>2</th>\n",
       "      <td>400</td>\n",
       "      <td>B</td>\n",
       "    </tr>\n",
       "    <tr>\n",
       "      <th>3</th>\n",
       "      <td>98</td>\n",
       "      <td>C</td>\n",
       "    </tr>\n",
       "    <tr>\n",
       "      <th>4</th>\n",
       "      <td>103</td>\n",
       "      <td>C</td>\n",
       "    </tr>\n",
       "    <tr>\n",
       "      <th>...</th>\n",
       "      <td>...</td>\n",
       "      <td>...</td>\n",
       "    </tr>\n",
       "    <tr>\n",
       "      <th>430</th>\n",
       "      <td>45</td>\n",
       "      <td>B</td>\n",
       "    </tr>\n",
       "    <tr>\n",
       "      <th>431</th>\n",
       "      <td>398</td>\n",
       "      <td>A</td>\n",
       "    </tr>\n",
       "    <tr>\n",
       "      <th>432</th>\n",
       "      <td>156</td>\n",
       "      <td>A</td>\n",
       "    </tr>\n",
       "    <tr>\n",
       "      <th>433</th>\n",
       "      <td>47</td>\n",
       "      <td>B</td>\n",
       "    </tr>\n",
       "    <tr>\n",
       "      <th>434</th>\n",
       "      <td>92</td>\n",
       "      <td>A</td>\n",
       "    </tr>\n",
       "  </tbody>\n",
       "</table>\n",
       "<p>435 rows × 2 columns</p>\n",
       "</div>"
      ],
      "text/plain": [
       "      ID species\n",
       "0    284       C\n",
       "1    101       C\n",
       "2    400       B\n",
       "3     98       C\n",
       "4    103       C\n",
       "..   ...     ...\n",
       "430   45       B\n",
       "431  398       A\n",
       "432  156       A\n",
       "433   47       B\n",
       "434   92       A\n",
       "\n",
       "[435 rows x 2 columns]"
      ]
     },
     "execution_count": 253,
     "metadata": {},
     "output_type": "execute_result"
    }
   ],
   "source": [
    "labels\n"
   ]
  },
  {
   "cell_type": "code",
   "execution_count": 254,
   "id": "380d8b08",
   "metadata": {},
   "outputs": [],
   "source": [
    "train = train.merge(labels, on=\"ID\")"
   ]
  },
  {
   "cell_type": "code",
   "execution_count": 255,
   "id": "84795a84",
   "metadata": {},
   "outputs": [
    {
     "data": {
      "text/html": [
       "<div>\n",
       "<style scoped>\n",
       "    .dataframe tbody tr th:only-of-type {\n",
       "        vertical-align: middle;\n",
       "    }\n",
       "\n",
       "    .dataframe tbody tr th {\n",
       "        vertical-align: top;\n",
       "    }\n",
       "\n",
       "    .dataframe thead th {\n",
       "        text-align: right;\n",
       "    }\n",
       "</style>\n",
       "<table border=\"1\" class=\"dataframe\">\n",
       "  <thead>\n",
       "    <tr style=\"text-align: right;\">\n",
       "      <th></th>\n",
       "      <th>bill_depth</th>\n",
       "      <th>bill_length</th>\n",
       "      <th>wing_length</th>\n",
       "      <th>location</th>\n",
       "      <th>mass</th>\n",
       "      <th>sex</th>\n",
       "      <th>ID</th>\n",
       "      <th>species</th>\n",
       "    </tr>\n",
       "  </thead>\n",
       "  <tbody>\n",
       "    <tr>\n",
       "      <th>0</th>\n",
       "      <td>14.300000</td>\n",
       "      <td>48.200000</td>\n",
       "      <td>210.000000</td>\n",
       "      <td>loc_2</td>\n",
       "      <td>4600.0</td>\n",
       "      <td>0.0</td>\n",
       "      <td>284</td>\n",
       "      <td>C</td>\n",
       "    </tr>\n",
       "    <tr>\n",
       "      <th>1</th>\n",
       "      <td>14.400000</td>\n",
       "      <td>48.400000</td>\n",
       "      <td>203.000000</td>\n",
       "      <td>loc_2</td>\n",
       "      <td>4625.0</td>\n",
       "      <td>0.0</td>\n",
       "      <td>101</td>\n",
       "      <td>C</td>\n",
       "    </tr>\n",
       "    <tr>\n",
       "      <th>2</th>\n",
       "      <td>18.400000</td>\n",
       "      <td>NaN</td>\n",
       "      <td>200.000000</td>\n",
       "      <td>loc_3</td>\n",
       "      <td>3400.0</td>\n",
       "      <td>0.0</td>\n",
       "      <td>400</td>\n",
       "      <td>B</td>\n",
       "    </tr>\n",
       "    <tr>\n",
       "      <th>3</th>\n",
       "      <td>14.982114</td>\n",
       "      <td>47.504878</td>\n",
       "      <td>NaN</td>\n",
       "      <td>NaN</td>\n",
       "      <td>4800.0</td>\n",
       "      <td>0.0</td>\n",
       "      <td>98</td>\n",
       "      <td>C</td>\n",
       "    </tr>\n",
       "    <tr>\n",
       "      <th>4</th>\n",
       "      <td>18.982114</td>\n",
       "      <td>38.259307</td>\n",
       "      <td>217.186992</td>\n",
       "      <td>loc_3</td>\n",
       "      <td>5200.0</td>\n",
       "      <td>0.0</td>\n",
       "      <td>103</td>\n",
       "      <td>C</td>\n",
       "    </tr>\n",
       "    <tr>\n",
       "      <th>...</th>\n",
       "      <td>...</td>\n",
       "      <td>...</td>\n",
       "      <td>...</td>\n",
       "      <td>...</td>\n",
       "      <td>...</td>\n",
       "      <td>...</td>\n",
       "      <td>...</td>\n",
       "      <td>...</td>\n",
       "    </tr>\n",
       "    <tr>\n",
       "      <th>430</th>\n",
       "      <td>17.000000</td>\n",
       "      <td>48.833824</td>\n",
       "      <td>196.000000</td>\n",
       "      <td>NaN</td>\n",
       "      <td>3500.0</td>\n",
       "      <td>1.0</td>\n",
       "      <td>45</td>\n",
       "      <td>B</td>\n",
       "    </tr>\n",
       "    <tr>\n",
       "      <th>431</th>\n",
       "      <td>17.100000</td>\n",
       "      <td>NaN</td>\n",
       "      <td>193.000000</td>\n",
       "      <td>loc_3</td>\n",
       "      <td>3400.0</td>\n",
       "      <td>0.0</td>\n",
       "      <td>398</td>\n",
       "      <td>A</td>\n",
       "    </tr>\n",
       "    <tr>\n",
       "      <th>432</th>\n",
       "      <td>19.400000</td>\n",
       "      <td>NaN</td>\n",
       "      <td>NaN</td>\n",
       "      <td>loc_1</td>\n",
       "      <td>3900.0</td>\n",
       "      <td>1.0</td>\n",
       "      <td>156</td>\n",
       "      <td>A</td>\n",
       "    </tr>\n",
       "    <tr>\n",
       "      <th>433</th>\n",
       "      <td>16.600000</td>\n",
       "      <td>55.512336</td>\n",
       "      <td>187.000000</td>\n",
       "      <td>loc_2</td>\n",
       "      <td>2900.0</td>\n",
       "      <td>NaN</td>\n",
       "      <td>47</td>\n",
       "      <td>B</td>\n",
       "    </tr>\n",
       "    <tr>\n",
       "      <th>434</th>\n",
       "      <td>18.900000</td>\n",
       "      <td>NaN</td>\n",
       "      <td>NaN</td>\n",
       "      <td>loc_3</td>\n",
       "      <td>4300.0</td>\n",
       "      <td>1.0</td>\n",
       "      <td>92</td>\n",
       "      <td>A</td>\n",
       "    </tr>\n",
       "  </tbody>\n",
       "</table>\n",
       "<p>435 rows × 8 columns</p>\n",
       "</div>"
      ],
      "text/plain": [
       "     bill_depth  bill_length  wing_length location    mass  sex   ID species\n",
       "0     14.300000    48.200000   210.000000    loc_2  4600.0  0.0  284       C\n",
       "1     14.400000    48.400000   203.000000    loc_2  4625.0  0.0  101       C\n",
       "2     18.400000          NaN   200.000000    loc_3  3400.0  0.0  400       B\n",
       "3     14.982114    47.504878          NaN      NaN  4800.0  0.0   98       C\n",
       "4     18.982114    38.259307   217.186992    loc_3  5200.0  0.0  103       C\n",
       "..          ...          ...          ...      ...     ...  ...  ...     ...\n",
       "430   17.000000    48.833824   196.000000      NaN  3500.0  1.0   45       B\n",
       "431   17.100000          NaN   193.000000    loc_3  3400.0  0.0  398       A\n",
       "432   19.400000          NaN          NaN    loc_1  3900.0  1.0  156       A\n",
       "433   16.600000    55.512336   187.000000    loc_2  2900.0  NaN   47       B\n",
       "434   18.900000          NaN          NaN    loc_3  4300.0  1.0   92       A\n",
       "\n",
       "[435 rows x 8 columns]"
      ]
     },
     "execution_count": 255,
     "metadata": {},
     "output_type": "execute_result"
    }
   ],
   "source": [
    "train"
   ]
  },
  {
   "cell_type": "code",
   "execution_count": 256,
   "id": "5f396f9a",
   "metadata": {},
   "outputs": [],
   "source": [
    "target_cols = \"species\"\n",
    "num_cols = [\"bill_depth\", \"bill_length\", \"wing_length\", \"mass\"]\n",
    "cat_cols = [\"location\", \"sex\"]\n",
    "all_cols = num_cols + cat_cols + [target_cols]\n",
    "\n",
    "train = train[all_cols]"
   ]
  },
  {
   "cell_type": "code",
   "execution_count": 257,
   "id": "0e294668",
   "metadata": {},
   "outputs": [
    {
     "data": {
      "text/html": [
       "<div>\n",
       "<style scoped>\n",
       "    .dataframe tbody tr th:only-of-type {\n",
       "        vertical-align: middle;\n",
       "    }\n",
       "\n",
       "    .dataframe tbody tr th {\n",
       "        vertical-align: top;\n",
       "    }\n",
       "\n",
       "    .dataframe thead th {\n",
       "        text-align: right;\n",
       "    }\n",
       "</style>\n",
       "<table border=\"1\" class=\"dataframe\">\n",
       "  <thead>\n",
       "    <tr style=\"text-align: right;\">\n",
       "      <th></th>\n",
       "      <th>bill_depth</th>\n",
       "      <th>bill_length</th>\n",
       "      <th>wing_length</th>\n",
       "      <th>mass</th>\n",
       "      <th>location</th>\n",
       "      <th>sex</th>\n",
       "      <th>species</th>\n",
       "    </tr>\n",
       "  </thead>\n",
       "  <tbody>\n",
       "    <tr>\n",
       "      <th>0</th>\n",
       "      <td>14.300000</td>\n",
       "      <td>48.200000</td>\n",
       "      <td>210.000000</td>\n",
       "      <td>4600.0</td>\n",
       "      <td>loc_2</td>\n",
       "      <td>0.0</td>\n",
       "      <td>C</td>\n",
       "    </tr>\n",
       "    <tr>\n",
       "      <th>1</th>\n",
       "      <td>14.400000</td>\n",
       "      <td>48.400000</td>\n",
       "      <td>203.000000</td>\n",
       "      <td>4625.0</td>\n",
       "      <td>loc_2</td>\n",
       "      <td>0.0</td>\n",
       "      <td>C</td>\n",
       "    </tr>\n",
       "    <tr>\n",
       "      <th>2</th>\n",
       "      <td>18.400000</td>\n",
       "      <td>NaN</td>\n",
       "      <td>200.000000</td>\n",
       "      <td>3400.0</td>\n",
       "      <td>loc_3</td>\n",
       "      <td>0.0</td>\n",
       "      <td>B</td>\n",
       "    </tr>\n",
       "    <tr>\n",
       "      <th>3</th>\n",
       "      <td>14.982114</td>\n",
       "      <td>47.504878</td>\n",
       "      <td>NaN</td>\n",
       "      <td>4800.0</td>\n",
       "      <td>NaN</td>\n",
       "      <td>0.0</td>\n",
       "      <td>C</td>\n",
       "    </tr>\n",
       "    <tr>\n",
       "      <th>4</th>\n",
       "      <td>18.982114</td>\n",
       "      <td>38.259307</td>\n",
       "      <td>217.186992</td>\n",
       "      <td>5200.0</td>\n",
       "      <td>loc_3</td>\n",
       "      <td>0.0</td>\n",
       "      <td>C</td>\n",
       "    </tr>\n",
       "    <tr>\n",
       "      <th>...</th>\n",
       "      <td>...</td>\n",
       "      <td>...</td>\n",
       "      <td>...</td>\n",
       "      <td>...</td>\n",
       "      <td>...</td>\n",
       "      <td>...</td>\n",
       "      <td>...</td>\n",
       "    </tr>\n",
       "    <tr>\n",
       "      <th>430</th>\n",
       "      <td>17.000000</td>\n",
       "      <td>48.833824</td>\n",
       "      <td>196.000000</td>\n",
       "      <td>3500.0</td>\n",
       "      <td>NaN</td>\n",
       "      <td>1.0</td>\n",
       "      <td>B</td>\n",
       "    </tr>\n",
       "    <tr>\n",
       "      <th>431</th>\n",
       "      <td>17.100000</td>\n",
       "      <td>NaN</td>\n",
       "      <td>193.000000</td>\n",
       "      <td>3400.0</td>\n",
       "      <td>loc_3</td>\n",
       "      <td>0.0</td>\n",
       "      <td>A</td>\n",
       "    </tr>\n",
       "    <tr>\n",
       "      <th>432</th>\n",
       "      <td>19.400000</td>\n",
       "      <td>NaN</td>\n",
       "      <td>NaN</td>\n",
       "      <td>3900.0</td>\n",
       "      <td>loc_1</td>\n",
       "      <td>1.0</td>\n",
       "      <td>A</td>\n",
       "    </tr>\n",
       "    <tr>\n",
       "      <th>433</th>\n",
       "      <td>16.600000</td>\n",
       "      <td>55.512336</td>\n",
       "      <td>187.000000</td>\n",
       "      <td>2900.0</td>\n",
       "      <td>loc_2</td>\n",
       "      <td>NaN</td>\n",
       "      <td>B</td>\n",
       "    </tr>\n",
       "    <tr>\n",
       "      <th>434</th>\n",
       "      <td>18.900000</td>\n",
       "      <td>NaN</td>\n",
       "      <td>NaN</td>\n",
       "      <td>4300.0</td>\n",
       "      <td>loc_3</td>\n",
       "      <td>1.0</td>\n",
       "      <td>A</td>\n",
       "    </tr>\n",
       "  </tbody>\n",
       "</table>\n",
       "<p>435 rows × 7 columns</p>\n",
       "</div>"
      ],
      "text/plain": [
       "     bill_depth  bill_length  wing_length    mass location  sex species\n",
       "0     14.300000    48.200000   210.000000  4600.0    loc_2  0.0       C\n",
       "1     14.400000    48.400000   203.000000  4625.0    loc_2  0.0       C\n",
       "2     18.400000          NaN   200.000000  3400.0    loc_3  0.0       B\n",
       "3     14.982114    47.504878          NaN  4800.0      NaN  0.0       C\n",
       "4     18.982114    38.259307   217.186992  5200.0    loc_3  0.0       C\n",
       "..          ...          ...          ...     ...      ...  ...     ...\n",
       "430   17.000000    48.833824   196.000000  3500.0      NaN  1.0       B\n",
       "431   17.100000          NaN   193.000000  3400.0    loc_3  0.0       A\n",
       "432   19.400000          NaN          NaN  3900.0    loc_1  1.0       A\n",
       "433   16.600000    55.512336   187.000000  2900.0    loc_2  NaN       B\n",
       "434   18.900000          NaN          NaN  4300.0    loc_3  1.0       A\n",
       "\n",
       "[435 rows x 7 columns]"
      ]
     },
     "execution_count": 257,
     "metadata": {},
     "output_type": "execute_result"
    }
   ],
   "source": [
    "train"
   ]
  },
  {
   "cell_type": "code",
   "execution_count": 258,
   "id": "537fdd34",
   "metadata": {},
   "outputs": [],
   "source": [
    "test = pd.read_csv(\"test_set.csv\")"
   ]
  },
  {
   "cell_type": "code",
   "execution_count": 259,
   "id": "feb88eb3",
   "metadata": {},
   "outputs": [
    {
     "data": {
      "text/html": [
       "<div>\n",
       "<style scoped>\n",
       "    .dataframe tbody tr th:only-of-type {\n",
       "        vertical-align: middle;\n",
       "    }\n",
       "\n",
       "    .dataframe tbody tr th {\n",
       "        vertical-align: top;\n",
       "    }\n",
       "\n",
       "    .dataframe thead th {\n",
       "        text-align: right;\n",
       "    }\n",
       "</style>\n",
       "<table border=\"1\" class=\"dataframe\">\n",
       "  <thead>\n",
       "    <tr style=\"text-align: right;\">\n",
       "      <th></th>\n",
       "      <th>bill_depth</th>\n",
       "      <th>bill_length</th>\n",
       "      <th>wing_length</th>\n",
       "      <th>location</th>\n",
       "      <th>mass</th>\n",
       "      <th>sex</th>\n",
       "      <th>ID</th>\n",
       "    </tr>\n",
       "  </thead>\n",
       "  <tbody>\n",
       "    <tr>\n",
       "      <th>0</th>\n",
       "      <td>14.982114</td>\n",
       "      <td>38.259307</td>\n",
       "      <td>217.186992</td>\n",
       "      <td>loc_2</td>\n",
       "      <td>5400.0</td>\n",
       "      <td>0.0</td>\n",
       "      <td>2</td>\n",
       "    </tr>\n",
       "    <tr>\n",
       "      <th>1</th>\n",
       "      <td>13.200000</td>\n",
       "      <td>46.100000</td>\n",
       "      <td>211.000000</td>\n",
       "      <td>loc_2</td>\n",
       "      <td>4500.0</td>\n",
       "      <td>0.0</td>\n",
       "      <td>5</td>\n",
       "    </tr>\n",
       "    <tr>\n",
       "      <th>2</th>\n",
       "      <td>20.000000</td>\n",
       "      <td>NaN</td>\n",
       "      <td>197.000000</td>\n",
       "      <td>loc_3</td>\n",
       "      <td>3300.0</td>\n",
       "      <td>1.0</td>\n",
       "      <td>7</td>\n",
       "    </tr>\n",
       "    <tr>\n",
       "      <th>3</th>\n",
       "      <td>17.500000</td>\n",
       "      <td>38.791391</td>\n",
       "      <td>190.000000</td>\n",
       "      <td>loc_3</td>\n",
       "      <td>3900.0</td>\n",
       "      <td>NaN</td>\n",
       "      <td>8</td>\n",
       "    </tr>\n",
       "    <tr>\n",
       "      <th>4</th>\n",
       "      <td>18.900000</td>\n",
       "      <td>NaN</td>\n",
       "      <td>184.000000</td>\n",
       "      <td>loc_2</td>\n",
       "      <td>3550.0</td>\n",
       "      <td>1.0</td>\n",
       "      <td>9</td>\n",
       "    </tr>\n",
       "    <tr>\n",
       "      <th>...</th>\n",
       "      <td>...</td>\n",
       "      <td>...</td>\n",
       "      <td>...</td>\n",
       "      <td>...</td>\n",
       "      <td>...</td>\n",
       "      <td>...</td>\n",
       "      <td>...</td>\n",
       "    </tr>\n",
       "    <tr>\n",
       "      <th>104</th>\n",
       "      <td>19.000000</td>\n",
       "      <td>NaN</td>\n",
       "      <td>NaN</td>\n",
       "      <td>loc_1</td>\n",
       "      <td>3600.0</td>\n",
       "      <td>0.0</td>\n",
       "      <td>507</td>\n",
       "    </tr>\n",
       "    <tr>\n",
       "      <th>105</th>\n",
       "      <td>18.000000</td>\n",
       "      <td>NaN</td>\n",
       "      <td>210.000000</td>\n",
       "      <td>loc_1</td>\n",
       "      <td>4000.0</td>\n",
       "      <td>1.0</td>\n",
       "      <td>512</td>\n",
       "    </tr>\n",
       "    <tr>\n",
       "      <th>106</th>\n",
       "      <td>19.500000</td>\n",
       "      <td>49.000000</td>\n",
       "      <td>210.000000</td>\n",
       "      <td>loc_3</td>\n",
       "      <td>3950.0</td>\n",
       "      <td>1.0</td>\n",
       "      <td>516</td>\n",
       "    </tr>\n",
       "    <tr>\n",
       "      <th>107</th>\n",
       "      <td>17.900000</td>\n",
       "      <td>50.100000</td>\n",
       "      <td>190.000000</td>\n",
       "      <td>loc_3</td>\n",
       "      <td>3400.0</td>\n",
       "      <td>0.0</td>\n",
       "      <td>533</td>\n",
       "    </tr>\n",
       "    <tr>\n",
       "      <th>108</th>\n",
       "      <td>14.982114</td>\n",
       "      <td>38.259307</td>\n",
       "      <td>NaN</td>\n",
       "      <td>loc_3</td>\n",
       "      <td>5550.0</td>\n",
       "      <td>NaN</td>\n",
       "      <td>541</td>\n",
       "    </tr>\n",
       "  </tbody>\n",
       "</table>\n",
       "<p>109 rows × 7 columns</p>\n",
       "</div>"
      ],
      "text/plain": [
       "     bill_depth  bill_length  wing_length location    mass  sex   ID\n",
       "0     14.982114    38.259307   217.186992    loc_2  5400.0  0.0    2\n",
       "1     13.200000    46.100000   211.000000    loc_2  4500.0  0.0    5\n",
       "2     20.000000          NaN   197.000000    loc_3  3300.0  1.0    7\n",
       "3     17.500000    38.791391   190.000000    loc_3  3900.0  NaN    8\n",
       "4     18.900000          NaN   184.000000    loc_2  3550.0  1.0    9\n",
       "..          ...          ...          ...      ...     ...  ...  ...\n",
       "104   19.000000          NaN          NaN    loc_1  3600.0  0.0  507\n",
       "105   18.000000          NaN   210.000000    loc_1  4000.0  1.0  512\n",
       "106   19.500000    49.000000   210.000000    loc_3  3950.0  1.0  516\n",
       "107   17.900000    50.100000   190.000000    loc_3  3400.0  0.0  533\n",
       "108   14.982114    38.259307          NaN    loc_3  5550.0  NaN  541\n",
       "\n",
       "[109 rows x 7 columns]"
      ]
     },
     "execution_count": 259,
     "metadata": {},
     "output_type": "execute_result"
    }
   ],
   "source": [
    "test"
   ]
  },
  {
   "cell_type": "code",
   "execution_count": 260,
   "id": "888b4031",
   "metadata": {},
   "outputs": [
    {
     "name": "stdout",
     "output_type": "stream",
     "text": [
      "<class 'pandas.core.frame.DataFrame'>\n",
      "Int64Index: 435 entries, 0 to 434\n",
      "Data columns (total 7 columns):\n",
      " #   Column       Non-Null Count  Dtype  \n",
      "---  ------       --------------  -----  \n",
      " 0   bill_depth   434 non-null    float64\n",
      " 1   bill_length  295 non-null    float64\n",
      " 2   wing_length  298 non-null    float64\n",
      " 3   mass         433 non-null    float64\n",
      " 4   location     405 non-null    object \n",
      " 5   sex          379 non-null    float64\n",
      " 6   species      435 non-null    object \n",
      "dtypes: float64(5), object(2)\n",
      "memory usage: 27.2+ KB\n"
     ]
    }
   ],
   "source": [
    "train.info()\n"
   ]
  },
  {
   "cell_type": "code",
   "execution_count": 261,
   "id": "80f83dbf",
   "metadata": {},
   "outputs": [
    {
     "data": {
      "text/plain": [
       "bill_depth       1\n",
       "bill_length    140\n",
       "wing_length    137\n",
       "mass             2\n",
       "location        30\n",
       "sex             56\n",
       "species          0\n",
       "dtype: int64"
      ]
     },
     "execution_count": 261,
     "metadata": {},
     "output_type": "execute_result"
    }
   ],
   "source": [
    "train.isnull().sum()"
   ]
  },
  {
   "cell_type": "code",
   "execution_count": 262,
   "id": "98b348c5",
   "metadata": {
    "scrolled": true
   },
   "outputs": [
    {
     "data": {
      "image/png": "[encoded data removed]",
      "text/plain": [
       "<Figure size 1000x600 with 1 Axes>"
      ]
     },
     "metadata": {},
     "output_type": "display_data"
    },
    {
     "data": {
      "image/png": "[encoded data removed]",
      "text/plain": [
       "<Figure size 1000x600 with 1 Axes>"
      ]
     },
     "metadata": {},
     "output_type": "display_data"
    },
    {
     "data": {
      "image/png": "[encoded data removed]",
      "text/plain": [
       "<Figure size 1000x600 with 1 Axes>"
      ]
     },
     "metadata": {},
     "output_type": "display_data"
    }
   ],
   "source": [
    "def plot_categorical_distribution(train, column_name):\n",
    "    \n",
    "    plt.figure(figsize=(10, 6))\n",
    "    sns.countplot(y=column_name, data=train, order = train[column_name].value_counts().index)\n",
    "    plt.title(f'Distribution of {column_name}')\n",
    "    plt.xlabel('Count')\n",
    "    plt.ylabel(column_name)\n",
    "    plt.show()\n",
    "\n",
    "\n",
    "# Plotting the distribution of some categorical variables\n",
    "plot_categorical_distribution(train, 'location')\n",
    "plot_categorical_distribution(train, 'species')\n",
    "plot_categorical_distribution(train, 'sex')"
   ]
  },
  {
   "cell_type": "code",
   "execution_count": 263,
   "id": "160dc540",
   "metadata": {},
   "outputs": [],
   "source": [
    "target_cols = \"species\"\n",
    "num_cols = [\"bill_depth\", \"bill_length\", \"wing_length\", \"mass\"]\n",
    "cat_cols = [\"location\", \"sex\"]\n",
    "all_cols = num_cols + cat_cols + [target_cols]"
   ]
  },
  {
   "cell_type": "code",
   "execution_count": 264,
   "id": "76dd2ea6",
   "metadata": {
    "scrolled": false
   },
   "outputs": [
    {
     "data": {
      "image/png": "[encoded data removed]",
      "text/plain": [
       "<Figure size 2000x1400 with 4 Axes>"
      ]
     },
     "metadata": {},
     "output_type": "display_data"
    }
   ],
   "source": [
    "train[num_cols].hist(figsize=(20, 14));"
   ]
  },
  {
   "cell_type": "code",
   "execution_count": 265,
   "id": "6832a548",
   "metadata": {},
   "outputs": [
    {
     "data": {
      "image/png": "[encoded data removed]",
      "text/plain": [
       "<Figure size 1000x600 with 1 Axes>"
      ]
     },
     "metadata": {},
     "output_type": "display_data"
    },
    {
     "data": {
      "image/png": "[encoded data removed]",
      "text/plain": [
       "<Figure size 1000x600 with 1 Axes>"
      ]
     },
     "metadata": {},
     "output_type": "display_data"
    },
    {
     "data": {
      "image/png": "[encoded data removed]",
      "text/plain": [
       "<Figure size 1000x600 with 1 Axes>"
      ]
     },
     "metadata": {},
     "output_type": "display_data"
    },
    {
     "data": {
      "image/png": "[encoded data removed]",
      "text/plain": [
       "<Figure size 1000x600 with 1 Axes>"
      ]
     },
     "metadata": {},
     "output_type": "display_data"
    }
   ],
   "source": [
    "def plot_boxplot(train, column_name):\n",
    "\n",
    "    plt.figure(figsize=(10, 6))\n",
    "    sns.boxplot(x=train[column_name])\n",
    "    plt.title(f'Boxplot of {column_name}')\n",
    "    plt.xlabel(column_name)\n",
    "    plt.show()\n",
    "\n",
    "# Plotting boxplots for numerical variables\n",
    "num_cols = [\"bill_depth\", \"bill_length\", \"wing_length\", \"mass\"]\n",
    "\n",
    "for column in num_cols:\n",
    "    plot_boxplot(train, column)"
   ]
  },
  {
   "cell_type": "code",
   "execution_count": 266,
   "id": "2674a5f3",
   "metadata": {},
   "outputs": [
    {
     "data": {
      "text/plain": [
       "C    182\n",
       "A    160\n",
       "B     93\n",
       "Name: species, dtype: int64"
      ]
     },
     "execution_count": 266,
     "metadata": {},
     "output_type": "execute_result"
    }
   ],
   "source": [
    "train.species.value_counts()"
   ]
  },
  {
   "cell_type": "code",
   "execution_count": 267,
   "id": "1f3a63a9",
   "metadata": {},
   "outputs": [
    {
     "name": "stdout",
     "output_type": "stream",
     "text": [
      "There are a total of 6 variables with missing values\n",
      "\n",
      "bill_length          => 32.184%\n",
      "wing_length          => 31.494%\n",
      "sex                  => 12.874%\n",
      "location             => 6.897%\n",
      "mass                 => 0.46%\n",
      "bill_depth           => 0.23%\n"
     ]
    }
   ],
   "source": [
    "missing_vals(train)"
   ]
  },
  {
   "cell_type": "code",
   "execution_count": 268,
   "id": "bebf30dc",
   "metadata": {},
   "outputs": [
    {
     "data": {
      "image/png": "[encoded data removed]",
      "text/plain": [
       "<Figure size 1000x600 with 1 Axes>"
      ]
     },
     "metadata": {},
     "output_type": "display_data"
    }
   ],
   "source": [
    "plt.figure(figsize=(10, 6))\n",
    "sns.heatmap(train.isnull(), yticklabels=False, cmap='viridis', cbar=False);"
   ]
  },
  {
   "cell_type": "code",
   "execution_count": 269,
   "id": "b74336ca",
   "metadata": {},
   "outputs": [
    {
     "name": "stderr",
     "output_type": "stream",
     "text": [
      "/var/folders/xw/vqr91wdn0z95ys_pkgyjcsdm0000gn/T/ipykernel_15170/696095427.py:3: SettingWithCopyWarning: \n",
      "A value is trying to be set on a copy of a slice from a DataFrame.\n",
      "Try using .loc[row_indexer,col_indexer] = value instead\n",
      "\n",
      "See the caveats in the documentation: https://pandas.pydata.org/pandas-docs/stable/user_guide/indexing.html#returning-a-view-versus-a-copy\n",
      "  train[cat_cols] = cat_imp.fit_transform(train[cat_cols])\n"
     ]
    }
   ],
   "source": [
    "cat_imp = SimpleImputer(strategy=\"most_frequent\")\n",
    "\n",
    "train[cat_cols] = cat_imp.fit_transform(train[cat_cols])"
   ]
  },
  {
   "cell_type": "code",
   "execution_count": 270,
   "id": "cca5b59e",
   "metadata": {},
   "outputs": [
    {
     "name": "stderr",
     "output_type": "stream",
     "text": [
      "/var/folders/xw/vqr91wdn0z95ys_pkgyjcsdm0000gn/T/ipykernel_15170/1591640101.py:3: SettingWithCopyWarning: \n",
      "A value is trying to be set on a copy of a slice from a DataFrame.\n",
      "Try using .loc[row_indexer,col_indexer] = value instead\n",
      "\n",
      "See the caveats in the documentation: https://pandas.pydata.org/pandas-docs/stable/user_guide/indexing.html#returning-a-view-versus-a-copy\n",
      "  train[num_cols] = num_imp.fit_transform(train[num_cols])\n"
     ]
    }
   ],
   "source": [
    "num_imp = SimpleImputer(strategy=\"median\")\n",
    "\n",
    "train[num_cols] = num_imp.fit_transform(train[num_cols])"
   ]
  },
  {
   "cell_type": "code",
   "execution_count": 271,
   "id": "19299a7d",
   "metadata": {},
   "outputs": [
    {
     "data": {
      "text/plain": [
       "'no missing values'"
      ]
     },
     "execution_count": 271,
     "metadata": {},
     "output_type": "execute_result"
    }
   ],
   "source": [
    "missing_vals(train)"
   ]
  },
  {
   "cell_type": "code",
   "execution_count": 272,
   "id": "b1c44516",
   "metadata": {},
   "outputs": [
    {
     "data": {
      "text/plain": [
       "{'A': 0, 'B': 1, 'C': 2}"
      ]
     },
     "execution_count": 272,
     "metadata": {},
     "output_type": "execute_result"
    }
   ],
   "source": [
    "le = LabelEncoder()\n",
    "le.fit(train['species'])\n",
    "le_name_map = dict(zip(le.classes_, le.transform(le.classes_)))\n",
    "le_name_map"
   ]
  },
  {
   "cell_type": "code",
   "execution_count": 273,
   "id": "743e5e9c",
   "metadata": {},
   "outputs": [
    {
     "name": "stderr",
     "output_type": "stream",
     "text": [
      "/var/folders/xw/vqr91wdn0z95ys_pkgyjcsdm0000gn/T/ipykernel_15170/3759069915.py:1: SettingWithCopyWarning: \n",
      "A value is trying to be set on a copy of a slice from a DataFrame.\n",
      "Try using .loc[row_indexer,col_indexer] = value instead\n",
      "\n",
      "See the caveats in the documentation: https://pandas.pydata.org/pandas-docs/stable/user_guide/indexing.html#returning-a-view-versus-a-copy\n",
      "  train['species'] = le.fit_transform(train['species'])\n"
     ]
    }
   ],
   "source": [
    "train['species'] = le.fit_transform(train['species'])"
   ]
  },
  {
   "cell_type": "code",
   "execution_count": 274,
   "id": "601c46cb",
   "metadata": {},
   "outputs": [
    {
     "name": "stderr",
     "output_type": "stream",
     "text": [
      "/var/folders/xw/vqr91wdn0z95ys_pkgyjcsdm0000gn/T/ipykernel_15170/3965734693.py:3: SettingWithCopyWarning: \n",
      "A value is trying to be set on a copy of a slice from a DataFrame.\n",
      "Try using .loc[row_indexer,col_indexer] = value instead\n",
      "\n",
      "See the caveats in the documentation: https://pandas.pydata.org/pandas-docs/stable/user_guide/indexing.html#returning-a-view-versus-a-copy\n",
      "  train[col] = le.fit_transform(train[col])\n",
      "/var/folders/xw/vqr91wdn0z95ys_pkgyjcsdm0000gn/T/ipykernel_15170/3965734693.py:3: SettingWithCopyWarning: \n",
      "A value is trying to be set on a copy of a slice from a DataFrame.\n",
      "Try using .loc[row_indexer,col_indexer] = value instead\n",
      "\n",
      "See the caveats in the documentation: https://pandas.pydata.org/pandas-docs/stable/user_guide/indexing.html#returning-a-view-versus-a-copy\n",
      "  train[col] = le.fit_transform(train[col])\n"
     ]
    }
   ],
   "source": [
    "for col in cat_cols:\n",
    "    if train[col].dtype == \"object\":\n",
    "        train[col] = le.fit_transform(train[col])"
   ]
  },
  {
   "cell_type": "code",
   "execution_count": 275,
   "id": "b632bd98",
   "metadata": {},
   "outputs": [
    {
     "data": {
      "text/html": [
       "<div>\n",
       "<style scoped>\n",
       "    .dataframe tbody tr th:only-of-type {\n",
       "        vertical-align: middle;\n",
       "    }\n",
       "\n",
       "    .dataframe tbody tr th {\n",
       "        vertical-align: top;\n",
       "    }\n",
       "\n",
       "    .dataframe thead th {\n",
       "        text-align: right;\n",
       "    }\n",
       "</style>\n",
       "<table border=\"1\" class=\"dataframe\">\n",
       "  <thead>\n",
       "    <tr style=\"text-align: right;\">\n",
       "      <th></th>\n",
       "      <th>bill_depth</th>\n",
       "      <th>bill_length</th>\n",
       "      <th>wing_length</th>\n",
       "      <th>mass</th>\n",
       "      <th>location</th>\n",
       "      <th>sex</th>\n",
       "      <th>species</th>\n",
       "    </tr>\n",
       "  </thead>\n",
       "  <tbody>\n",
       "    <tr>\n",
       "      <th>0</th>\n",
       "      <td>14.300000</td>\n",
       "      <td>48.200000</td>\n",
       "      <td>210.000000</td>\n",
       "      <td>4600.0</td>\n",
       "      <td>1</td>\n",
       "      <td>0</td>\n",
       "      <td>2</td>\n",
       "    </tr>\n",
       "    <tr>\n",
       "      <th>1</th>\n",
       "      <td>14.400000</td>\n",
       "      <td>48.400000</td>\n",
       "      <td>203.000000</td>\n",
       "      <td>4625.0</td>\n",
       "      <td>1</td>\n",
       "      <td>0</td>\n",
       "      <td>2</td>\n",
       "    </tr>\n",
       "    <tr>\n",
       "      <th>2</th>\n",
       "      <td>18.400000</td>\n",
       "      <td>47.500000</td>\n",
       "      <td>200.000000</td>\n",
       "      <td>3400.0</td>\n",
       "      <td>2</td>\n",
       "      <td>0</td>\n",
       "      <td>1</td>\n",
       "    </tr>\n",
       "    <tr>\n",
       "      <th>3</th>\n",
       "      <td>14.982114</td>\n",
       "      <td>47.504878</td>\n",
       "      <td>199.000000</td>\n",
       "      <td>4800.0</td>\n",
       "      <td>1</td>\n",
       "      <td>0</td>\n",
       "      <td>2</td>\n",
       "    </tr>\n",
       "    <tr>\n",
       "      <th>4</th>\n",
       "      <td>18.982114</td>\n",
       "      <td>38.259307</td>\n",
       "      <td>217.186992</td>\n",
       "      <td>5200.0</td>\n",
       "      <td>2</td>\n",
       "      <td>0</td>\n",
       "      <td>2</td>\n",
       "    </tr>\n",
       "  </tbody>\n",
       "</table>\n",
       "</div>"
      ],
      "text/plain": [
       "   bill_depth  bill_length  wing_length    mass  location  sex  species\n",
       "0   14.300000    48.200000   210.000000  4600.0         1    0        2\n",
       "1   14.400000    48.400000   203.000000  4625.0         1    0        2\n",
       "2   18.400000    47.500000   200.000000  3400.0         2    0        1\n",
       "3   14.982114    47.504878   199.000000  4800.0         1    0        2\n",
       "4   18.982114    38.259307   217.186992  5200.0         2    0        2"
      ]
     },
     "execution_count": 275,
     "metadata": {},
     "output_type": "execute_result"
    }
   ],
   "source": [
    "train.head()"
   ]
  },
  {
   "cell_type": "code",
   "execution_count": 276,
   "id": "e79e7edb",
   "metadata": {},
   "outputs": [
    {
     "name": "stderr",
     "output_type": "stream",
     "text": [
      "/var/folders/xw/vqr91wdn0z95ys_pkgyjcsdm0000gn/T/ipykernel_15170/2872227401.py:3: SettingWithCopyWarning: \n",
      "A value is trying to be set on a copy of a slice from a DataFrame.\n",
      "Try using .loc[row_indexer,col_indexer] = value instead\n",
      "\n",
      "See the caveats in the documentation: https://pandas.pydata.org/pandas-docs/stable/user_guide/indexing.html#returning-a-view-versus-a-copy\n",
      "  train[col] = pd.Categorical(train[col])\n"
     ]
    }
   ],
   "source": [
    "# Convert cat_features to pd.Categorical dtype\n",
    "for col in cat_cols:\n",
    "    train[col] = pd.Categorical(train[col])"
   ]
  },
  {
   "cell_type": "code",
   "execution_count": 277,
   "id": "0ff7aefd",
   "metadata": {},
   "outputs": [
    {
     "data": {
      "text/plain": [
       "bill_depth      float64\n",
       "bill_length     float64\n",
       "wing_length     float64\n",
       "mass            float64\n",
       "location       category\n",
       "sex            category\n",
       "species           int64\n",
       "dtype: object"
      ]
     },
     "execution_count": 277,
     "metadata": {},
     "output_type": "execute_result"
    }
   ],
   "source": [
    "train.dtypes\n"
   ]
  },
  {
   "cell_type": "code",
   "execution_count": 278,
   "id": "96b9bb40",
   "metadata": {},
   "outputs": [],
   "source": [
    "train['b_depth_length_ratio'] = train['bill_depth'] / train['bill_length']\n",
    "train['b_length_depth_ratio'] = train['bill_length'] / train['bill_depth']\n",
    "train['w_length_mass_ratio'] = train['wing_length'] / train['mass']"
   ]
  },
  {
   "cell_type": "code",
   "execution_count": 279,
   "id": "df290e0b",
   "metadata": {
    "scrolled": true
   },
   "outputs": [
    {
     "data": {
      "text/html": [
       "<div>\n",
       "<style scoped>\n",
       "    .dataframe tbody tr th:only-of-type {\n",
       "        vertical-align: middle;\n",
       "    }\n",
       "\n",
       "    .dataframe tbody tr th {\n",
       "        vertical-align: top;\n",
       "    }\n",
       "\n",
       "    .dataframe thead th {\n",
       "        text-align: right;\n",
       "    }\n",
       "</style>\n",
       "<table border=\"1\" class=\"dataframe\">\n",
       "  <thead>\n",
       "    <tr style=\"text-align: right;\">\n",
       "      <th></th>\n",
       "      <th>bill_depth</th>\n",
       "      <th>bill_length</th>\n",
       "      <th>wing_length</th>\n",
       "      <th>mass</th>\n",
       "      <th>location</th>\n",
       "      <th>sex</th>\n",
       "      <th>species</th>\n",
       "      <th>b_depth_length_ratio</th>\n",
       "      <th>b_length_depth_ratio</th>\n",
       "      <th>w_length_mass_ratio</th>\n",
       "    </tr>\n",
       "  </thead>\n",
       "  <tbody>\n",
       "    <tr>\n",
       "      <th>0</th>\n",
       "      <td>14.300000</td>\n",
       "      <td>48.200000</td>\n",
       "      <td>210.000000</td>\n",
       "      <td>4600.0</td>\n",
       "      <td>1</td>\n",
       "      <td>0</td>\n",
       "      <td>2</td>\n",
       "      <td>0.296680</td>\n",
       "      <td>3.370629</td>\n",
       "      <td>0.045652</td>\n",
       "    </tr>\n",
       "    <tr>\n",
       "      <th>1</th>\n",
       "      <td>14.400000</td>\n",
       "      <td>48.400000</td>\n",
       "      <td>203.000000</td>\n",
       "      <td>4625.0</td>\n",
       "      <td>1</td>\n",
       "      <td>0</td>\n",
       "      <td>2</td>\n",
       "      <td>0.297521</td>\n",
       "      <td>3.361111</td>\n",
       "      <td>0.043892</td>\n",
       "    </tr>\n",
       "    <tr>\n",
       "      <th>2</th>\n",
       "      <td>18.400000</td>\n",
       "      <td>47.500000</td>\n",
       "      <td>200.000000</td>\n",
       "      <td>3400.0</td>\n",
       "      <td>2</td>\n",
       "      <td>0</td>\n",
       "      <td>1</td>\n",
       "      <td>0.387368</td>\n",
       "      <td>2.581522</td>\n",
       "      <td>0.058824</td>\n",
       "    </tr>\n",
       "    <tr>\n",
       "      <th>3</th>\n",
       "      <td>14.982114</td>\n",
       "      <td>47.504878</td>\n",
       "      <td>199.000000</td>\n",
       "      <td>4800.0</td>\n",
       "      <td>1</td>\n",
       "      <td>0</td>\n",
       "      <td>2</td>\n",
       "      <td>0.315381</td>\n",
       "      <td>3.170773</td>\n",
       "      <td>0.041458</td>\n",
       "    </tr>\n",
       "    <tr>\n",
       "      <th>4</th>\n",
       "      <td>18.982114</td>\n",
       "      <td>38.259307</td>\n",
       "      <td>217.186992</td>\n",
       "      <td>5200.0</td>\n",
       "      <td>2</td>\n",
       "      <td>0</td>\n",
       "      <td>2</td>\n",
       "      <td>0.496144</td>\n",
       "      <td>2.015545</td>\n",
       "      <td>0.041767</td>\n",
       "    </tr>\n",
       "  </tbody>\n",
       "</table>\n",
       "</div>"
      ],
      "text/plain": [
       "   bill_depth  bill_length  wing_length    mass location sex  species  \\\n",
       "0   14.300000    48.200000   210.000000  4600.0        1   0        2   \n",
       "1   14.400000    48.400000   203.000000  4625.0        1   0        2   \n",
       "2   18.400000    47.500000   200.000000  3400.0        2   0        1   \n",
       "3   14.982114    47.504878   199.000000  4800.0        1   0        2   \n",
       "4   18.982114    38.259307   217.186992  5200.0        2   0        2   \n",
       "\n",
       "   b_depth_length_ratio  b_length_depth_ratio  w_length_mass_ratio  \n",
       "0              0.296680              3.370629             0.045652  \n",
       "1              0.297521              3.361111             0.043892  \n",
       "2              0.387368              2.581522             0.058824  \n",
       "3              0.315381              3.170773             0.041458  \n",
       "4              0.496144              2.015545             0.041767  "
      ]
     },
     "execution_count": 279,
     "metadata": {},
     "output_type": "execute_result"
    }
   ],
   "source": [
    "train.head()\n"
   ]
  },
  {
   "cell_type": "code",
   "execution_count": 280,
   "id": "f4121e3a",
   "metadata": {},
   "outputs": [
    {
     "data": {
      "text/plain": [
       "'no missing values'"
      ]
     },
     "execution_count": 280,
     "metadata": {},
     "output_type": "execute_result"
    }
   ],
   "source": [
    "missing_vals(train)"
   ]
  },
  {
   "cell_type": "code",
   "execution_count": 281,
   "id": "0986ca81",
   "metadata": {},
   "outputs": [
    {
     "name": "stdout",
     "output_type": "stream",
     "text": [
      "Class distribution after SMOTE:\n",
      "0    146\n",
      "1    146\n",
      "2    146\n",
      "Name: species, dtype: int64\n"
     ]
    }
   ],
   "source": [
    "# Import necessary libraries\n",
    "from sklearn.model_selection import train_test_split\n",
    "from imblearn.over_sampling import SMOTE\n",
    "\n",
    "# Separating the features (X) from the target variable (y)\n",
    "X = train.drop('species', axis=1)  # Features (all columns except 'species')\n",
    "y = train['species']  # Target variable ('species')\n",
    "\n",
    "# Splitting the data into training (80%) and testing (20%) sets\n",
    "X_train, X_test, y_train, y_test = train_test_split(X, y, test_size=0.2, random_state=42, stratify=y)\n",
    "\n",
    "# Applying SMOTE to the training data\n",
    "smote = SMOTE(random_state=42)\n",
    "X_train_smote, y_train_smote = smote.fit_resample(X_train, y_train)\n",
    "\n",
    "# Showing the distribution of the target variable after SMOTE\n",
    "print(\"Class distribution after SMOTE:\")\n",
    "print(y_train_smote.value_counts())"
   ]
  },
  {
   "cell_type": "code",
   "execution_count": 282,
   "id": "ac69872e",
   "metadata": {
    "scrolled": true
   },
   "outputs": [
    {
     "name": "stdout",
     "output_type": "stream",
     "text": [
      "There are a total of 2 variables with missing values\n",
      "\n",
      "location             => 9.589%\n",
      "sex                  => 7.763%\n"
     ]
    }
   ],
   "source": [
    "missing_vals(X_train_smote)"
   ]
  },
  {
   "cell_type": "code",
   "execution_count": 283,
   "id": "fad0a465",
   "metadata": {},
   "outputs": [],
   "source": [
    "from sklearn.impute import SimpleImputer\n"
   ]
  },
  {
   "cell_type": "code",
   "execution_count": 284,
   "id": "d53bcddf",
   "metadata": {},
   "outputs": [],
   "source": [
    "# Create an imputer object to fill missing values with the mean of each column\n",
    "imputer = SimpleImputer(strategy='most_frequent')  # You can also use 'median' or 'most_frequent' depending on your data\n",
    "\n",
    "# Impute missing values after applying SMOTE\n",
    "X_train_smote_imputed = imputer.fit_transform(X_train_smote)\n",
    "\n"
   ]
  },
  {
   "cell_type": "code",
   "execution_count": 285,
   "id": "9cec9eeb",
   "metadata": {},
   "outputs": [],
   "source": [
    "dtree_model = DecisionTreeClassifier(max_depth = 2).fit(X_train_smote_imputed, y_train_smote)"
   ]
  },
  {
   "cell_type": "code",
   "execution_count": 286,
   "id": "f8dab645",
   "metadata": {},
   "outputs": [
    {
     "name": "stderr",
     "output_type": "stream",
     "text": [
      "/Users/sainithingovind/anaconda3/lib/python3.11/site-packages/sklearn/base.py:432: UserWarning: X has feature names, but DecisionTreeClassifier was fitted without feature names\n",
      "  warnings.warn(\n"
     ]
    }
   ],
   "source": [
    "dtree_pred = dtree_model.predict(X_test)"
   ]
  },
  {
   "cell_type": "code",
   "execution_count": 287,
   "id": "303ccbe4",
   "metadata": {},
   "outputs": [
    {
     "name": "stdout",
     "output_type": "stream",
     "text": [
      "              precision    recall  f1-score   support\n",
      "\n",
      "           0       0.97      0.72      0.83        43\n",
      "           1       0.79      1.00      0.88        15\n",
      "           2       0.78      0.97      0.86        29\n",
      "\n",
      "    accuracy                           0.85        87\n",
      "   macro avg       0.85      0.90      0.86        87\n",
      "weighted avg       0.87      0.85      0.85        87\n",
      "\n"
     ]
    }
   ],
   "source": [
    "print(classification_report(dtree_pred, y_test))"
   ]
  },
  {
   "cell_type": "code",
   "execution_count": 288,
   "id": "28fe1a7b",
   "metadata": {},
   "outputs": [
    {
     "name": "stdout",
     "output_type": "stream",
     "text": [
      "Random Forest Classification Report:\n",
      "\n",
      "              precision    recall  f1-score   support\n",
      "\n",
      "           0       0.82      0.97      0.89        32\n",
      "           1       1.00      0.79      0.88        19\n",
      "           2       0.97      0.92      0.94        36\n",
      "\n",
      "    accuracy                           0.91        87\n",
      "   macro avg       0.93      0.89      0.90        87\n",
      "weighted avg       0.92      0.91      0.91        87\n",
      "\n"
     ]
    },
    {
     "name": "stderr",
     "output_type": "stream",
     "text": [
      "/Users/sainithingovind/anaconda3/lib/python3.11/site-packages/sklearn/base.py:432: UserWarning: X has feature names, but RandomForestClassifier was fitted without feature names\n",
      "  warnings.warn(\n"
     ]
    }
   ],
   "source": [
    "from sklearn.ensemble import RandomForestClassifier\n",
    "from sklearn.metrics import classification_report\n",
    "\n",
    "# Fit Random Forest model after applying SMOTE\n",
    "rf_model = RandomForestClassifier(random_state=40, max_depth=2)\n",
    "rf_model.fit(X_train_smote_imputed, y_train_smote)\n",
    "\n",
    "# Make predictions\n",
    "rf_pred = rf_model.predict(X_test)\n",
    "\n",
    "# Print classification report for Random Forest\n",
    "print(\"Random Forest Classification Report:\\n\")\n",
    "print(classification_report(y_test, rf_pred))\n"
   ]
  },
  {
   "cell_type": "code",
   "execution_count": 289,
   "id": "61c46748",
   "metadata": {},
   "outputs": [
    {
     "name": "stdout",
     "output_type": "stream",
     "text": [
      "Gradient Boosting Classification Report:\n",
      "\n",
      "              precision    recall  f1-score   support\n",
      "\n",
      "           0       0.88      0.91      0.89        32\n",
      "           1       0.84      0.84      0.84        19\n",
      "           2       1.00      0.97      0.99        36\n",
      "\n",
      "    accuracy                           0.92        87\n",
      "   macro avg       0.91      0.91      0.91        87\n",
      "weighted avg       0.92      0.92      0.92        87\n",
      "\n"
     ]
    },
    {
     "name": "stderr",
     "output_type": "stream",
     "text": [
      "/Users/sainithingovind/anaconda3/lib/python3.11/site-packages/sklearn/base.py:432: UserWarning: X has feature names, but GradientBoostingClassifier was fitted without feature names\n",
      "  warnings.warn(\n"
     ]
    }
   ],
   "source": [
    "from sklearn.ensemble import GradientBoostingClassifier\n",
    "\n",
    "# Fit Gradient Boosting model after applying SMOTE\n",
    "gb_model = GradientBoostingClassifier(random_state=40)\n",
    "gb_model.fit(X_train_smote_imputed, y_train_smote)\n",
    "\n",
    "# Make predictions\n",
    "gb_pred = gb_model.predict(X_test)\n",
    "\n",
    "# Print classification report for Gradient Boosting\n",
    "print(\"Gradient Boosting Classification Report:\\n\")\n",
    "print(classification_report(y_test, gb_pred))\n"
   ]
  },
  {
   "cell_type": "code",
   "execution_count": 290,
   "id": "d4f352b9",
   "metadata": {
    "scrolled": true
   },
   "outputs": [
    {
     "name": "stdout",
     "output_type": "stream",
     "text": [
      "Bagging Classifier Classification Report:\n",
      "\n",
      "              precision    recall  f1-score   support\n",
      "\n",
      "           0       0.74      0.97      0.84        32\n",
      "           1       1.00      0.79      0.88        19\n",
      "           2       0.97      0.81      0.88        36\n",
      "\n",
      "    accuracy                           0.86        87\n",
      "   macro avg       0.90      0.85      0.87        87\n",
      "weighted avg       0.89      0.86      0.86        87\n",
      "\n"
     ]
    },
    {
     "name": "stderr",
     "output_type": "stream",
     "text": [
      "/Users/sainithingovind/anaconda3/lib/python3.11/site-packages/sklearn/ensemble/_base.py:166: FutureWarning: `base_estimator` was renamed to `estimator` in version 1.2 and will be removed in 1.4.\n",
      "  warnings.warn(\n",
      "/Users/sainithingovind/anaconda3/lib/python3.11/site-packages/sklearn/base.py:432: UserWarning: X has feature names, but BaggingClassifier was fitted without feature names\n",
      "  warnings.warn(\n"
     ]
    }
   ],
   "source": [
    "from sklearn.ensemble import BaggingClassifier\n",
    "\n",
    "# Fit Bagging model after applying SMOTE\n",
    "bagging_model = BaggingClassifier(base_estimator=DecisionTreeClassifier(max_depth=2),\n",
    "                                  n_estimators=50, random_state=40)\n",
    "bagging_model.fit(X_train_smote_imputed, y_train_smote)\n",
    "\n",
    "# Make predictions\n",
    "bagging_pred = bagging_model.predict(X_test)\n",
    "\n",
    "# Print classification report for Bagging\n",
    "print(\"Bagging Classifier Classification Report:\\n\")\n",
    "print(classification_report(y_test, bagging_pred))\n"
   ]
  },
  {
   "cell_type": "code",
   "execution_count": 291,
   "id": "b6cdc0a1",
   "metadata": {},
   "outputs": [],
   "source": [
    "le = LabelEncoder()\n",
    "\n",
    "cat_imp = SimpleImputer(strategy=\"most_frequent\")\n",
    "num_imp = SimpleImputer(strategy=\"median\")\n",
    "\n",
    "test[cat_cols] = cat_imp.fit_transform(test[cat_cols])\n",
    "test[num_cols] = num_imp.fit_transform(test[num_cols])\n",
    "\n",
    "for col in cat_cols:\n",
    "    if test[col].dtype == \"object\":\n",
    "        test[col] = le.fit_transform(test[col])\n",
    "\n",
    "# Convert cat_features to pd.Categorical dtype\n",
    "for col in cat_cols:\n",
    "    test[col] = pd.Categorical(test[col])\n",
    "\n",
    "# save ID column\n",
    "test_id = test[\"ID\"]\n",
    "\n",
    "all_cols.remove('species')\n",
    "test = test[all_cols]\n",
    "\n",
    "test['b_depth_length_ratio'] = test['bill_depth'] / test['bill_length']\n",
    "test['b_length_depth_ratio'] = test['bill_length'] / test['bill_depth']\n",
    "test['w_length_mass_ratio'] = test['wing_length'] / test['mass']"
   ]
  },
  {
   "cell_type": "code",
   "execution_count": 292,
   "id": "089ac729",
   "metadata": {},
   "outputs": [
    {
     "data": {
      "text/html": [
       "<div>\n",
       "<style scoped>\n",
       "    .dataframe tbody tr th:only-of-type {\n",
       "        vertical-align: middle;\n",
       "    }\n",
       "\n",
       "    .dataframe tbody tr th {\n",
       "        vertical-align: top;\n",
       "    }\n",
       "\n",
       "    .dataframe thead th {\n",
       "        text-align: right;\n",
       "    }\n",
       "</style>\n",
       "<table border=\"1\" class=\"dataframe\">\n",
       "  <thead>\n",
       "    <tr style=\"text-align: right;\">\n",
       "      <th></th>\n",
       "      <th>bill_depth</th>\n",
       "      <th>bill_length</th>\n",
       "      <th>wing_length</th>\n",
       "      <th>mass</th>\n",
       "      <th>location</th>\n",
       "      <th>sex</th>\n",
       "      <th>b_depth_length_ratio</th>\n",
       "      <th>b_length_depth_ratio</th>\n",
       "      <th>w_length_mass_ratio</th>\n",
       "    </tr>\n",
       "  </thead>\n",
       "  <tbody>\n",
       "    <tr>\n",
       "      <th>0</th>\n",
       "      <td>14.982114</td>\n",
       "      <td>38.259307</td>\n",
       "      <td>217.186992</td>\n",
       "      <td>5400.0</td>\n",
       "      <td>1</td>\n",
       "      <td>0</td>\n",
       "      <td>0.391594</td>\n",
       "      <td>2.553665</td>\n",
       "      <td>0.040220</td>\n",
       "    </tr>\n",
       "    <tr>\n",
       "      <th>1</th>\n",
       "      <td>13.200000</td>\n",
       "      <td>46.100000</td>\n",
       "      <td>211.000000</td>\n",
       "      <td>4500.0</td>\n",
       "      <td>1</td>\n",
       "      <td>0</td>\n",
       "      <td>0.286334</td>\n",
       "      <td>3.492424</td>\n",
       "      <td>0.046889</td>\n",
       "    </tr>\n",
       "    <tr>\n",
       "      <th>2</th>\n",
       "      <td>20.000000</td>\n",
       "      <td>46.750000</td>\n",
       "      <td>197.000000</td>\n",
       "      <td>3300.0</td>\n",
       "      <td>2</td>\n",
       "      <td>1</td>\n",
       "      <td>0.427807</td>\n",
       "      <td>2.337500</td>\n",
       "      <td>0.059697</td>\n",
       "    </tr>\n",
       "    <tr>\n",
       "      <th>3</th>\n",
       "      <td>17.500000</td>\n",
       "      <td>38.791391</td>\n",
       "      <td>190.000000</td>\n",
       "      <td>3900.0</td>\n",
       "      <td>2</td>\n",
       "      <td>0</td>\n",
       "      <td>0.451131</td>\n",
       "      <td>2.216651</td>\n",
       "      <td>0.048718</td>\n",
       "    </tr>\n",
       "    <tr>\n",
       "      <th>4</th>\n",
       "      <td>18.900000</td>\n",
       "      <td>46.750000</td>\n",
       "      <td>184.000000</td>\n",
       "      <td>3550.0</td>\n",
       "      <td>1</td>\n",
       "      <td>1</td>\n",
       "      <td>0.404278</td>\n",
       "      <td>2.473545</td>\n",
       "      <td>0.051831</td>\n",
       "    </tr>\n",
       "    <tr>\n",
       "      <th>...</th>\n",
       "      <td>...</td>\n",
       "      <td>...</td>\n",
       "      <td>...</td>\n",
       "      <td>...</td>\n",
       "      <td>...</td>\n",
       "      <td>...</td>\n",
       "      <td>...</td>\n",
       "      <td>...</td>\n",
       "      <td>...</td>\n",
       "    </tr>\n",
       "    <tr>\n",
       "      <th>104</th>\n",
       "      <td>19.000000</td>\n",
       "      <td>46.750000</td>\n",
       "      <td>197.000000</td>\n",
       "      <td>3600.0</td>\n",
       "      <td>0</td>\n",
       "      <td>0</td>\n",
       "      <td>0.406417</td>\n",
       "      <td>2.460526</td>\n",
       "      <td>0.054722</td>\n",
       "    </tr>\n",
       "    <tr>\n",
       "      <th>105</th>\n",
       "      <td>18.000000</td>\n",
       "      <td>46.750000</td>\n",
       "      <td>210.000000</td>\n",
       "      <td>4000.0</td>\n",
       "      <td>0</td>\n",
       "      <td>1</td>\n",
       "      <td>0.385027</td>\n",
       "      <td>2.597222</td>\n",
       "      <td>0.052500</td>\n",
       "    </tr>\n",
       "    <tr>\n",
       "      <th>106</th>\n",
       "      <td>19.500000</td>\n",
       "      <td>49.000000</td>\n",
       "      <td>210.000000</td>\n",
       "      <td>3950.0</td>\n",
       "      <td>2</td>\n",
       "      <td>1</td>\n",
       "      <td>0.397959</td>\n",
       "      <td>2.512821</td>\n",
       "      <td>0.053165</td>\n",
       "    </tr>\n",
       "    <tr>\n",
       "      <th>107</th>\n",
       "      <td>17.900000</td>\n",
       "      <td>50.100000</td>\n",
       "      <td>190.000000</td>\n",
       "      <td>3400.0</td>\n",
       "      <td>2</td>\n",
       "      <td>0</td>\n",
       "      <td>0.357285</td>\n",
       "      <td>2.798883</td>\n",
       "      <td>0.055882</td>\n",
       "    </tr>\n",
       "    <tr>\n",
       "      <th>108</th>\n",
       "      <td>14.982114</td>\n",
       "      <td>38.259307</td>\n",
       "      <td>197.000000</td>\n",
       "      <td>5550.0</td>\n",
       "      <td>2</td>\n",
       "      <td>0</td>\n",
       "      <td>0.391594</td>\n",
       "      <td>2.553665</td>\n",
       "      <td>0.035495</td>\n",
       "    </tr>\n",
       "  </tbody>\n",
       "</table>\n",
       "<p>109 rows × 9 columns</p>\n",
       "</div>"
      ],
      "text/plain": [
       "     bill_depth  bill_length  wing_length    mass location sex  \\\n",
       "0     14.982114    38.259307   217.186992  5400.0        1   0   \n",
       "1     13.200000    46.100000   211.000000  4500.0        1   0   \n",
       "2     20.000000    46.750000   197.000000  3300.0        2   1   \n",
       "3     17.500000    38.791391   190.000000  3900.0        2   0   \n",
       "4     18.900000    46.750000   184.000000  3550.0        1   1   \n",
       "..          ...          ...          ...     ...      ...  ..   \n",
       "104   19.000000    46.750000   197.000000  3600.0        0   0   \n",
       "105   18.000000    46.750000   210.000000  4000.0        0   1   \n",
       "106   19.500000    49.000000   210.000000  3950.0        2   1   \n",
       "107   17.900000    50.100000   190.000000  3400.0        2   0   \n",
       "108   14.982114    38.259307   197.000000  5550.0        2   0   \n",
       "\n",
       "     b_depth_length_ratio  b_length_depth_ratio  w_length_mass_ratio  \n",
       "0                0.391594              2.553665             0.040220  \n",
       "1                0.286334              3.492424             0.046889  \n",
       "2                0.427807              2.337500             0.059697  \n",
       "3                0.451131              2.216651             0.048718  \n",
       "4                0.404278              2.473545             0.051831  \n",
       "..                    ...                   ...                  ...  \n",
       "104              0.406417              2.460526             0.054722  \n",
       "105              0.385027              2.597222             0.052500  \n",
       "106              0.397959              2.512821             0.053165  \n",
       "107              0.357285              2.798883             0.055882  \n",
       "108              0.391594              2.553665             0.035495  \n",
       "\n",
       "[109 rows x 9 columns]"
      ]
     },
     "execution_count": 292,
     "metadata": {},
     "output_type": "execute_result"
    }
   ],
   "source": [
    "test"
   ]
  },
  {
   "cell_type": "code",
   "execution_count": 301,
   "id": "e94aabd3",
   "metadata": {},
   "outputs": [
    {
     "data": {
      "text/html": [
       "<div>\n",
       "<style scoped>\n",
       "    .dataframe tbody tr th:only-of-type {\n",
       "        vertical-align: middle;\n",
       "    }\n",
       "\n",
       "    .dataframe tbody tr th {\n",
       "        vertical-align: top;\n",
       "    }\n",
       "\n",
       "    .dataframe thead th {\n",
       "        text-align: right;\n",
       "    }\n",
       "</style>\n",
       "<table border=\"1\" class=\"dataframe\">\n",
       "  <thead>\n",
       "    <tr style=\"text-align: right;\">\n",
       "      <th></th>\n",
       "      <th>ID</th>\n",
       "      <th>species</th>\n",
       "    </tr>\n",
       "  </thead>\n",
       "  <tbody>\n",
       "    <tr>\n",
       "      <th>0</th>\n",
       "      <td>2</td>\n",
       "      <td>2</td>\n",
       "    </tr>\n",
       "    <tr>\n",
       "      <th>1</th>\n",
       "      <td>5</td>\n",
       "      <td>2</td>\n",
       "    </tr>\n",
       "    <tr>\n",
       "      <th>2</th>\n",
       "      <td>7</td>\n",
       "      <td>1</td>\n",
       "    </tr>\n",
       "    <tr>\n",
       "      <th>3</th>\n",
       "      <td>8</td>\n",
       "      <td>0</td>\n",
       "    </tr>\n",
       "    <tr>\n",
       "      <th>4</th>\n",
       "      <td>9</td>\n",
       "      <td>0</td>\n",
       "    </tr>\n",
       "  </tbody>\n",
       "</table>\n",
       "</div>"
      ],
      "text/plain": [
       "   ID  species\n",
       "0   2        2\n",
       "1   5        2\n",
       "2   7        1\n",
       "3   8        0\n",
       "4   9        0"
      ]
     },
     "execution_count": 301,
     "metadata": {},
     "output_type": "execute_result"
    }
   ],
   "source": [
    "gb_model = GradientBoostingClassifier(n_estimators=100, learning_rate=0.1, random_state=42)\n",
    "gb_model.fit(train.drop(columns=['species']), train['species'])\n",
    "gb_preds = gb_model.predict(test)\n",
    "\n",
    "submission_df = pd.concat([test_id, pd.DataFrame(gb_preds, columns=['species'])], axis=1)\n",
    "submission_df.head()"
   ]
  },
  {
   "cell_type": "code",
   "execution_count": 302,
   "id": "4f6a83e5",
   "metadata": {},
   "outputs": [
    {
     "data": {
      "text/plain": [
       "{'A': 0, 'B': 1, 'C': 2}"
      ]
     },
     "execution_count": 302,
     "metadata": {},
     "output_type": "execute_result"
    }
   ],
   "source": [
    "le_name_map"
   ]
  },
  {
   "cell_type": "code",
   "execution_count": 303,
   "id": "7dd6bfc3",
   "metadata": {},
   "outputs": [
    {
     "data": {
      "text/plain": [
       "{0: 'A', 1: 'B', 2: 'C'}"
      ]
     },
     "execution_count": 303,
     "metadata": {},
     "output_type": "execute_result"
    }
   ],
   "source": [
    "inv_map = {v: k for k, v in le_name_map.items()}\n",
    "inv_map"
   ]
  },
  {
   "cell_type": "code",
   "execution_count": 304,
   "id": "8e7635c3",
   "metadata": {},
   "outputs": [
    {
     "data": {
      "text/html": [
       "<div>\n",
       "<style scoped>\n",
       "    .dataframe tbody tr th:only-of-type {\n",
       "        vertical-align: middle;\n",
       "    }\n",
       "\n",
       "    .dataframe tbody tr th {\n",
       "        vertical-align: top;\n",
       "    }\n",
       "\n",
       "    .dataframe thead th {\n",
       "        text-align: right;\n",
       "    }\n",
       "</style>\n",
       "<table border=\"1\" class=\"dataframe\">\n",
       "  <thead>\n",
       "    <tr style=\"text-align: right;\">\n",
       "      <th></th>\n",
       "      <th>ID</th>\n",
       "      <th>species</th>\n",
       "    </tr>\n",
       "  </thead>\n",
       "  <tbody>\n",
       "    <tr>\n",
       "      <th>0</th>\n",
       "      <td>2</td>\n",
       "      <td>C</td>\n",
       "    </tr>\n",
       "    <tr>\n",
       "      <th>1</th>\n",
       "      <td>5</td>\n",
       "      <td>C</td>\n",
       "    </tr>\n",
       "    <tr>\n",
       "      <th>2</th>\n",
       "      <td>7</td>\n",
       "      <td>B</td>\n",
       "    </tr>\n",
       "    <tr>\n",
       "      <th>3</th>\n",
       "      <td>8</td>\n",
       "      <td>A</td>\n",
       "    </tr>\n",
       "    <tr>\n",
       "      <th>4</th>\n",
       "      <td>9</td>\n",
       "      <td>A</td>\n",
       "    </tr>\n",
       "  </tbody>\n",
       "</table>\n",
       "</div>"
      ],
      "text/plain": [
       "   ID species\n",
       "0   2       C\n",
       "1   5       C\n",
       "2   7       B\n",
       "3   8       A\n",
       "4   9       A"
      ]
     },
     "execution_count": 304,
     "metadata": {},
     "output_type": "execute_result"
    }
   ],
   "source": [
    "submission_df['species'] = submission_df['species'].map(inv_map)  \n",
    "submission_df.head()"
   ]
  },
  {
   "cell_type": "code",
   "execution_count": 305,
   "id": "c1e1c9b6",
   "metadata": {},
   "outputs": [],
   "source": [
    "submission_df.to_csv('solution.csv', index=False)\n"
   ]
  },
  {
   "cell_type": "code",
   "execution_count": 306,
   "id": "f2668ed9",
   "metadata": {},
   "outputs": [
    {
     "data": {
      "text/html": [
       "<div>\n",
       "<style scoped>\n",
       "    .dataframe tbody tr th:only-of-type {\n",
       "        vertical-align: middle;\n",
       "    }\n",
       "\n",
       "    .dataframe tbody tr th {\n",
       "        vertical-align: top;\n",
       "    }\n",
       "\n",
       "    .dataframe thead th {\n",
       "        text-align: right;\n",
       "    }\n",
       "</style>\n",
       "<table border=\"1\" class=\"dataframe\">\n",
       "  <thead>\n",
       "    <tr style=\"text-align: right;\">\n",
       "      <th></th>\n",
       "      <th>ID</th>\n",
       "      <th>species</th>\n",
       "    </tr>\n",
       "  </thead>\n",
       "  <tbody>\n",
       "    <tr>\n",
       "      <th>0</th>\n",
       "      <td>2</td>\n",
       "      <td>C</td>\n",
       "    </tr>\n",
       "    <tr>\n",
       "      <th>1</th>\n",
       "      <td>5</td>\n",
       "      <td>C</td>\n",
       "    </tr>\n",
       "    <tr>\n",
       "      <th>2</th>\n",
       "      <td>7</td>\n",
       "      <td>B</td>\n",
       "    </tr>\n",
       "    <tr>\n",
       "      <th>3</th>\n",
       "      <td>8</td>\n",
       "      <td>A</td>\n",
       "    </tr>\n",
       "    <tr>\n",
       "      <th>4</th>\n",
       "      <td>9</td>\n",
       "      <td>A</td>\n",
       "    </tr>\n",
       "    <tr>\n",
       "      <th>...</th>\n",
       "      <td>...</td>\n",
       "      <td>...</td>\n",
       "    </tr>\n",
       "    <tr>\n",
       "      <th>104</th>\n",
       "      <td>507</td>\n",
       "      <td>A</td>\n",
       "    </tr>\n",
       "    <tr>\n",
       "      <th>105</th>\n",
       "      <td>512</td>\n",
       "      <td>A</td>\n",
       "    </tr>\n",
       "    <tr>\n",
       "      <th>106</th>\n",
       "      <td>516</td>\n",
       "      <td>B</td>\n",
       "    </tr>\n",
       "    <tr>\n",
       "      <th>107</th>\n",
       "      <td>533</td>\n",
       "      <td>B</td>\n",
       "    </tr>\n",
       "    <tr>\n",
       "      <th>108</th>\n",
       "      <td>541</td>\n",
       "      <td>C</td>\n",
       "    </tr>\n",
       "  </tbody>\n",
       "</table>\n",
       "<p>109 rows × 2 columns</p>\n",
       "</div>"
      ],
      "text/plain": [
       "      ID species\n",
       "0      2       C\n",
       "1      5       C\n",
       "2      7       B\n",
       "3      8       A\n",
       "4      9       A\n",
       "..   ...     ...\n",
       "104  507       A\n",
       "105  512       A\n",
       "106  516       B\n",
       "107  533       B\n",
       "108  541       C\n",
       "\n",
       "[109 rows x 2 columns]"
      ]
     },
     "execution_count": 306,
     "metadata": {},
     "output_type": "execute_result"
    }
   ],
   "source": [
    "submission_df"
   ]
  }
 ],
 "metadata": {
  "kernelspec": {
   "display_name": "Python 3 (ipykernel)",
   "language": "python",
   "name": "python3"
  },
  "language_info": {
   "codemirror_mode": {
    "name": "ipython",
    "version": 3
   },
   "file_extension": ".py",
   "mimetype": "text/x-python",
   "name": "python",
   "nbconvert_exporter": "python",
   "pygments_lexer": "ipython3",
   "version": "3.11.4"
  }
 },
 "nbformat": 4,
 "nbformat_minor": 5
}
